{
 "cells": [
  {
   "cell_type": "markdown",
   "metadata": {
    "id": "5i4o7gNo9J7I"
   },
   "source": [
    "# Data Analysis 2021 - Coursework 1 (35%)\n",
    "***\n",
    "## Deadline: week 6, 2pm"
   ]
  },
  {
   "cell_type": "markdown",
   "metadata": {
    "id": "liDkUKeP9J7K"
   },
   "source": [
    "***"
   ]
  },
  {
   "cell_type": "markdown",
   "metadata": {
    "id": "2ZqEBhxi9J7M"
   },
   "source": [
    "## Instructions"
   ]
  },
  {
   "cell_type": "markdown",
   "metadata": {
    "id": "QvyGihBL9J7N"
   },
   "source": [
    "This coursework assesses learning outcomes from **Chapters 1 - 4** of the course."
   ]
  },
  {
   "cell_type": "markdown",
   "metadata": {
    "id": "t9sB8FAb9J7O"
   },
   "source": [
    "**These assessments are equivalent to an exam**:\n",
    "- Submit your work via Turn-It-In on Learning Central. Note that you will need to upload your final notebook exported as a pdf. **Don't forget to execute all of your cells before you export the notebook to pdf**. You can constantly resubmit your turnitin document until the deadline.\n",
    "- The breakdown of the assessment criteria is provided in Learning Central under Assessment.\n",
    "- Don't worry about how your code looks - marks are not given for pretty code, but rather for the approach used in solving the problem, your reasoning, explanation and answer.\n",
    "- Please also take note of the University’s policy on **plagiarism**, which is outlined in your student handbook."
   ]
  },
  {
   "cell_type": "markdown",
   "metadata": {
    "id": "FqrBHzZa9J7P"
   },
   "source": [
    "***"
   ]
  },
  {
   "cell_type": "markdown",
   "metadata": {
    "id": "5cm7xYwY9J7U"
   },
   "source": [
    "##  QUESTION 2"
   ]
  },
  {
   "cell_type": "markdown",
   "metadata": {
    "id": "RQAWrvl79J7V"
   },
   "source": [
    "A group researching cancer have previously found that the genetic marker D3 is a useful indication that a person will develop the more aggressive form of melanoma skin cancer, in that D3 is present in 65% of the aggressive cases. However the test is expensive.  A rival group claim that the marker M23 is more sensitive than D3, and works out considerably cheaper to test for. The rival research team manage to get DNA samples from 7 patients with the aggressive form of the disease, all of whom test positive for the genetic marker M23. Based on these results, is M23 a better marker for the disease than D3? \n",
    "\n",
    "Give full mathematical working for your reasoning, and show labeled plots of the underlying functions.    \n",
    "\n",
    "**[20 marks]**"
   ]
  },
  {
   "cell_type": "markdown",
   "metadata": {
    "id": "3RwQoU1jHkqn"
   },
   "source": [
    "**Answer:**"
   ]
  },
  {
   "cell_type": "markdown",
   "metadata": {
    "id": "nCUIEw3B9J7W"
   },
   "source": [
    "-which marker gives a better indication on wether someone is going to develop agressive melanoma cancer?\n",
    "\n",
    "-the marker must be present in the people with agressive melanoma cancer as freqeunctly as possible\n",
    "\n",
    "-marker D3 is present in 65% of people with agressive melanoma cancer\n",
    "\n",
    "-marker M23 is present in 7/7 people in a sample of people with agressive melanoma cancer (the population)\n",
    "\n",
    "-does 7/7 in a sample make me more confident about using M23 than of using D3 (present in 65% of the population)?\n",
    "\n",
    "-if the M23 marker was present in 65% of the whole population how likely would it be to pick 7/7 in a sample of which elements are picked at random?\n",
    "\n",
    "$p(7/7) = (65/100)^7 = 0.049$\n",
    "\n",
    "-because it is very unlikely that such sample is picked by chance in a population with a probability of any individual having the marker of 65% it is very likely that the population from which the sample was picked has a probability higher of 65% of an inidividual having such marker. This makes M23 a better marker than D3."
   ]
  },
  {
   "cell_type": "markdown",
   "metadata": {
    "id": "u9om6R4B9J7X"
   },
   "source": [
    "***"
   ]
  },
  {
   "cell_type": "markdown",
   "metadata": {
    "id": "VPhMVEA79J7X"
   },
   "source": [
    "## QUESTION 3 "
   ]
  },
  {
   "cell_type": "markdown",
   "metadata": {
    "id": "xqVfh0TC9J7Y"
   },
   "source": [
    "A computer chip manufacturer suspects that roughly half of its latest batch of CPUs contains a flaw.  The accounts department are clearly concerned, and are trying to predict how the fault will affect the number of customers returning products. How many CPUs from the batch would they need to examine to know the probability that any given CPU is faulty to better than 2.5%?\n",
    "\n",
    "Tip: think carefully about what you are trying to estimate here, you want the *error in your success probability* to be less than 2.5%.\n",
    "\n",
    "**[15 marks]**"
   ]
  },
  {
   "cell_type": "markdown",
   "metadata": {
    "id": "pfIyUQh-HjGJ"
   },
   "source": [
    "**Answer:**"
   ]
  },
  {
   "cell_type": "markdown",
   "metadata": {
    "id": "zW6kLBXo9J7Z"
   },
   "source": [
    "NA"
   ]
  },
  {
   "cell_type": "markdown",
   "metadata": {
    "id": "now_zcd09J7a"
   },
   "source": [
    "## QUESTION 4 "
   ]
  },
  {
   "cell_type": "markdown",
   "metadata": {
    "id": "72_wEA6n9J7b"
   },
   "source": [
    "The state of Florida is thinking of relaxing its policy on alcohol sales, to allow supermarkets to sell hard alcohol, since the police predict that this can reduce violence. After some extensive polling, they find that only 33% and 8% of Republican and Independent voters are, respectively, behind the change in the law, while 78% of the Democrat voters are in favour.  You are visiting the state, and ask a Police Officer what she thinks of the idea. She says she’s against the change to the law. What is the probability that she votes Democrat?\n",
    "\n",
    "\n",
    "You may assume that voting in the Florida polls that year was split in the following way: 40% Democrat and 36% Republican. You can also assume that Independent covers everything that is not Republican or Democrat. \n",
    "\n",
    "**[25 marks]**"
   ]
  },
  {
   "cell_type": "markdown",
   "metadata": {
    "id": "kw7k1ye39J7c"
   },
   "source": [
    "**Answer:**"
   ]
  },
  {
   "cell_type": "code",
   "execution_count": null,
   "metadata": {
    "colab": {
     "base_uri": "https://localhost:8080/"
    },
    "id": "cKWc_wzie0Zk",
    "outputId": "ef831c57-2081-4a53-b6a8-1ba8fadf4f7e"
   },
   "outputs": [
    {
     "name": "stdout",
     "output_type": "stream",
     "text": [
      "The probability that she is democrat given that she is against is 0.160\n"
     ]
    }
   ],
   "source": [
    "p_democrat = 0.4\n",
    "p_democrat_against = 0.22\n",
    "p_rep = 0.36\n",
    "p_rep_against = 0.67\n",
    "p_indi = 0.24\n",
    "p_indi_against = 0.92\n",
    "p_democrat_and_against = p_democrat*p_democrat_against\n",
    "p_rep_and_against = p_rep*p_rep_against\n",
    "p_indi_and_against = p_indi*p_indi_against\n",
    "p_against = p_democrat_and_against + p_rep_and_against + p_indi_and_against\n",
    "p_democrat_given_against = p_democrat_and_against/p_against\n",
    "print(\"The probability that she is democrat given that she is against is {:.3f}\".format(p_democrat_given_against))"
   ]
  }
 ],
 "metadata": {
  "colab": {
   "collapsed_sections": [],
   "name": "OliverPinna_2.ipynb",
   "provenance": []
  },
  "kernelspec": {
   "display_name": "Python 3",
   "language": "python",
   "name": "python3"
  },
  "language_info": {
   "codemirror_mode": {
    "name": "ipython",
    "version": 3
   },
   "file_extension": ".py",
   "mimetype": "text/x-python",
   "name": "python",
   "nbconvert_exporter": "python",
   "pygments_lexer": "ipython3",
   "version": "3.7.4"
  }
 },
 "nbformat": 4,
 "nbformat_minor": 1
}
